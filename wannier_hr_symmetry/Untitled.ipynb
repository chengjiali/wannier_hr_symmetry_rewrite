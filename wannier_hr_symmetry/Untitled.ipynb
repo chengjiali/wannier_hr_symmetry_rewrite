{
 "cells": [
  {
   "cell_type": "code",
   "execution_count": 31,
   "metadata": {},
   "outputs": [],
   "source": [
    "import numpy as np"
   ]
  },
  {
   "cell_type": "code",
   "execution_count": null,
   "metadata": {},
   "outputs": [],
   "source": [
    "POSCAR = '/home/cheng.jial/wannier_tools/wannhr_symm/poscar.in'\n",
    "WANNIER = '/home/cheng.jial/wannier_tools/wannhr_symm/wann.in'"
   ]
  },
  {
   "cell_type": "code",
   "execution_count": 45,
   "metadata": {},
   "outputs": [],
   "source": [
    "def read_poscar(path):\n",
    "    '''Read poscar.in, get atoms, A-matrix and fractional axis for each atom'''\n",
    "    with open(path, 'r') as f:\n",
    "        lines = f.readlines()\n",
    "        meta_data = [line.strip() for line in lines if not line.startswith('#')]\n",
    "        \n",
    "        # A-matrix\n",
    "        a_matrix = np.array([i.split() for i in meta_data[:3]])\n",
    "        \n",
    "        num_atoms = int(meta_data[3])\n",
    "        \n",
    "        temp = np.array([i.split() for i in meta_data[4:]])\n",
    "        atoms = temp[:,-1]\n",
    "        fractional_axis = temp[:,:-1] \n",
    "        \n",
    "    assert num_atoms == len(atoms)\n",
    "        \n",
    "    return num_atoms, atom_symbol, a_matrix, fractional_axis"
   ]
  },
  {
   "cell_type": "code",
   "execution_count": 22,
   "metadata": {},
   "outputs": [],
   "source": [
    "def read_wannier(path):\n",
    "    '''Read wann.in, get number of atoms, rotation map and rotation type for each atom'''\n",
    "    rotation_map = []\n",
    "    with open(path, 'r') as f:\n",
    "        lines = f.readlines()\n",
    "        meta_data = [line.strip() for line in lines if not line.startswith('#')]\n",
    "    \n",
    "    # Numbers and type of atoms\n",
    "    num_atoms = meta_data.pop(0)\n",
    "    type_of_atoms = meta_data.pop(0)\n",
    "    \n",
    "    # Rotation map\n",
    "    rotation_map = [i.split() for i in meta_data]\n",
    "    \n",
    "    return num_atoms, type_of_atoms, rotation_map"
   ]
  },
  {
   "cell_type": "code",
   "execution_count": null,
   "metadata": {},
   "outputs": [],
   "source": [
    "def get_symmetry(atom_symbol, a_matrix, fractional_axis):\n",
    "\n",
    "    # Build the crystal case\n",
    "    crystal_case = Atoms(symbols=atom_symbol, cell=a_matrix.T, scaled_positions=fractional_axis.T, pbc=True)\n",
    "    \n",
    "    # Get symmetry\n",
    "    symmetry = spglib.get_symmetry(crystal_case)\n",
    "    \n",
    "    return symmetry\n",
    "\n",
    "rotation = symmetry['rotations']\n",
    "translation = symmetry['translations']\n",
    "\n",
    "ptgrp = spglib.get_pointgroup(rotation)\n",
    "num_symm = rotation.shape[0]"
   ]
  },
  {
   "cell_type": "code",
   "execution_count": 46,
   "metadata": {},
   "outputs": [
    {
     "data": {
      "text/plain": [
       "(6,\n",
       " array(['Nb', 'Nb', 'Se', 'Se', 'Se', 'Se'], dtype='<U12'),\n",
       " array([['3.4446001053', '0.0000000000', '0.0000000000'],\n",
       "        ['-1.7223000526', '2.9831111971', '0.0000000000'],\n",
       "        ['0.0000000000', '0.0000000000', '12.5439996719']], dtype='<U13'),\n",
       " array([['0.000000000', '-0.000000000', '0.250000000'],\n",
       "        ['0.000000000', '-0.000000000', '0.750000019'],\n",
       "        ['0.333333324', '0.666666668', '0.117200002'],\n",
       "        ['0.666666588', '0.333333314', '0.882800007'],\n",
       "        ['0.666666588', '0.333333314', '0.617200031'],\n",
       "        ['0.333333324', '0.666666668', '0.382799969']], dtype='<U12'))"
      ]
     },
     "execution_count": 46,
     "metadata": {},
     "output_type": "execute_result"
    }
   ],
   "source": [
    "num_atoms_poscar, atom_symbol, a_matrix, fractional_axis = read_poscar(POSCAR)\n",
    "num_atoms_wannier, type_of_atoms, rotation_map = read_wannier()\n",
    "assert num_atoms_poscar == num_atoms_wannier\n",
    "num_atoms = num_atoms_poscar\n",
    "\n",
    "\n"
   ]
  },
  {
   "cell_type": "code",
   "execution_count": 23,
   "metadata": {},
   "outputs": [
    {
     "data": {
      "text/plain": [
       "('6',\n",
       " 'T',\n",
       " [['1', '1', 'd'],\n",
       "  ['2', '2', 'd'],\n",
       "  ['3', '3', 'p'],\n",
       "  ['4', '4', 'p'],\n",
       "  ['5', '5', 'p'],\n",
       "  ['6', '6', 'p']])"
      ]
     },
     "execution_count": 23,
     "metadata": {},
     "output_type": "execute_result"
    }
   ],
   "source": [
    "read_wannier()"
   ]
  },
  {
   "cell_type": "code",
   "execution_count": null,
   "metadata": {},
   "outputs": [],
   "source": [
    "list.pop()"
   ]
  }
 ],
 "metadata": {
  "kernelspec": {
   "display_name": "My Conda Python 3",
   "language": "python",
   "name": "python3"
  },
  "language_info": {
   "codemirror_mode": {
    "name": "ipython",
    "version": 3
   },
   "file_extension": ".py",
   "mimetype": "text/x-python",
   "name": "python",
   "nbconvert_exporter": "python",
   "pygments_lexer": "ipython3",
   "version": "3.7.3"
  }
 },
 "nbformat": 4,
 "nbformat_minor": 2
}
